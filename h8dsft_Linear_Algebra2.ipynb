{
  "nbformat": 4,
  "nbformat_minor": 0,
  "metadata": {
    "colab": {
      "name": "h8dsft_Linear_Algebra2.ipynb",
      "provenance": [],
      "authorship_tag": "ABX9TyPYntCLxNBaU0XT05eeytE7",
      "include_colab_link": true
    },
    "kernelspec": {
      "name": "python3",
      "display_name": "Python 3"
    },
    "language_info": {
      "name": "python"
    }
  },
  "cells": [
    {
      "cell_type": "markdown",
      "metadata": {
        "id": "view-in-github",
        "colab_type": "text"
      },
      "source": [
        "<a href=\"https://colab.research.google.com/github/Khal-Ramaus/h8dsft_Linear_Algebra2/blob/master/h8dsft_Linear_Algebra2.ipynb\" target=\"_parent\"><img src=\"https://colab.research.google.com/assets/colab-badge.svg\" alt=\"Open In Colab\"/></a>"
      ]
    },
    {
      "cell_type": "code",
      "metadata": {
        "id": "TjhNsXt-Wm28"
      },
      "source": [
        "import numpy as np\n",
        "import sympy as sp"
      ],
      "execution_count": 3,
      "outputs": []
    },
    {
      "cell_type": "markdown",
      "metadata": {
        "id": "2K_6hom-Cet8"
      },
      "source": [
        "# 1"
      ]
    },
    {
      "cell_type": "code",
      "metadata": {
        "colab": {
          "base_uri": "https://localhost:8080/"
        },
        "id": "rk_D0SRnXDDG",
        "outputId": "1e356d1c-e8ce-4d63-fa81-daf924125670"
      },
      "source": [
        "A = np.array([[2,1,-4],\n",
        "              [1,3,5],\n",
        "              [0,2,4]]\n",
        ")\n",
        "obe= sp.Matrix(A); obe.rref()"
      ],
      "execution_count": 4,
      "outputs": [
        {
          "output_type": "execute_result",
          "data": {
            "text/plain": [
              "(Matrix([\n",
              " [1, 0, 0],\n",
              " [0, 1, 0],\n",
              " [0, 0, 1]]), (0, 1, 2))"
            ]
          },
          "metadata": {
            "tags": []
          },
          "execution_count": 4
        }
      ]
    },
    {
      "cell_type": "markdown",
      "metadata": {
        "id": "KjtfVjgBAv-1"
      },
      "source": [
        "$$\n",
        "\\begin{bmatrix}\n",
        "    1 & 0 \\\\\\\\\n",
        "    0 & 1 \\\\\\\\\n",
        "    0 & 0\n",
        "\\end{bmatrix}\n",
        "\\begin{bmatrix}\n",
        "    c1\\\\\\\\\n",
        "    c2\n",
        "\\end{bmatrix}=\n",
        "\\begin{bmatrix}\n",
        "    0\\\\\\\\\n",
        "    0\\\\\\\\\n",
        "    1\n",
        "\\end{bmatrix}\n",
        "$$\n",
        "\n",
        "$$\n",
        "\\begin{bmatrix}\n",
        "    c1\\\\\\\\\n",
        "    c2\\\\\\\\\n",
        "    0\n",
        "\\end{bmatrix}=\n",
        "\\begin{bmatrix}\n",
        "    0\\\\\\\\\n",
        "    0\\\\\\\\\n",
        "    1\n",
        "\\end{bmatrix}\n",
        "$$\n",
        "\n",
        "**c1** = 0,   **c2** = 0,  **0** = 1\n",
        "\n",
        "Jadi, tidak ada solusi karena 0 = 1. Jadi, w bukan dari v1 atau v2"
      ]
    },
    {
      "cell_type": "markdown",
      "metadata": {
        "id": "bs7bt80eXwlj"
      },
      "source": [
        "# Buktikan T(-u) = -T(u)"
      ]
    },
    {
      "cell_type": "code",
      "metadata": {
        "id": "jEmucNMqXtB3"
      },
      "source": [
        "def T(u):\n",
        "  newT = 2 * u\n",
        "  return newT"
      ],
      "execution_count": 5,
      "outputs": []
    },
    {
      "cell_type": "code",
      "metadata": {
        "colab": {
          "base_uri": "https://localhost:8080/"
        },
        "id": "a8ZW-Q3-cEyI",
        "outputId": "97db3e22-d78e-4858-a623-6a916dc5e82b"
      },
      "source": [
        "u = np.array([1,2])\n",
        "print(u)"
      ],
      "execution_count": 6,
      "outputs": [
        {
          "output_type": "stream",
          "text": [
            "[1 2]\n"
          ],
          "name": "stdout"
        }
      ]
    },
    {
      "cell_type": "code",
      "metadata": {
        "colab": {
          "base_uri": "https://localhost:8080/"
        },
        "id": "Tl12tTIOb2SH",
        "outputId": "e77053cb-4ec0-4e89-d7a5-b479abc67218"
      },
      "source": [
        "s1 = T((-1)*u) # T(-u)\n",
        "s2 = (-1)*T(u) # -T(u)\n",
        "\n",
        "print(\"T(-u): \", s1)\n",
        "print(\"-T(u): \", s2)\n"
      ],
      "execution_count": 7,
      "outputs": [
        {
          "output_type": "stream",
          "text": [
            "T(-u):  [-2 -4]\n",
            "-T(u):  [-2 -4]\n"
          ],
          "name": "stdout"
        }
      ]
    },
    {
      "cell_type": "markdown",
      "metadata": {
        "id": "hNBMc-viCsxr"
      },
      "source": [
        "sama aja"
      ]
    }
  ]
}